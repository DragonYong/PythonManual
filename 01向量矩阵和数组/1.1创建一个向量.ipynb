{
 "cells": [
  {
   "cell_type": "code",
   "execution_count": 1,
   "id": "ee3b6574",
   "metadata": {
    "ExecuteTime": {
     "end_time": "2021-09-24T00:43:29.374177Z",
     "start_time": "2021-09-24T00:43:29.187676Z"
    }
   },
   "outputs": [],
   "source": [
    "# 加载库\n",
    "import numpy as np"
   ]
  },
  {
   "cell_type": "code",
   "execution_count": 2,
   "id": "1adbae22",
   "metadata": {
    "ExecuteTime": {
     "end_time": "2021-09-24T00:43:51.503000Z",
     "start_time": "2021-09-24T00:43:51.489036Z"
    }
   },
   "outputs": [
    {
     "data": {
      "text/plain": [
       "array([1, 2, 3])"
      ]
     },
     "execution_count": 2,
     "metadata": {},
     "output_type": "execute_result"
    }
   ],
   "source": [
    "vector_row = np.array([1, 2, 3])\n",
    "vector_row"
   ]
  },
  {
   "cell_type": "code",
   "execution_count": 3,
   "id": "cc6b736b",
   "metadata": {
    "ExecuteTime": {
     "end_time": "2021-09-24T00:44:27.527701Z",
     "start_time": "2021-09-24T00:44:27.521717Z"
    }
   },
   "outputs": [
    {
     "data": {
      "text/plain": [
       "array([[1],\n",
       "       [2],\n",
       "       [3]])"
      ]
     },
     "execution_count": 3,
     "metadata": {},
     "output_type": "execute_result"
    }
   ],
   "source": [
    "# 创建一个列向量\n",
    "vector_column = np.array([[1], [2], [3]])\n",
    "vector_column"
   ]
  },
  {
   "cell_type": "code",
   "execution_count": null,
   "id": "fb163c07",
   "metadata": {},
   "outputs": [],
   "source": []
  }
 ],
 "metadata": {
  "kernelspec": {
   "display_name": "Python [conda env:learn]",
   "language": "python",
   "name": "conda-env-learn-py"
  },
  "language_info": {
   "codemirror_mode": {
    "name": "ipython",
    "version": 3
   },
   "file_extension": ".py",
   "mimetype": "text/x-python",
   "name": "python",
   "nbconvert_exporter": "python",
   "pygments_lexer": "ipython3",
   "version": "3.7.11"
  },
  "toc": {
   "base_numbering": 1,
   "nav_menu": {},
   "number_sections": true,
   "sideBar": true,
   "skip_h1_title": false,
   "title_cell": "Table of Contents",
   "title_sidebar": "Contents",
   "toc_cell": false,
   "toc_position": {},
   "toc_section_display": true,
   "toc_window_display": false
  }
 },
 "nbformat": 4,
 "nbformat_minor": 5
}
